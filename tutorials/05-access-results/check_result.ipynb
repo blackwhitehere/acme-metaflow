{
 "cells": [
  {
   "cell_type": "code",
   "execution_count": 1,
   "metadata": {},
   "outputs": [],
   "source": [
    "from metaflow import Metaflow, Flow, get_metadata, namespace"
   ]
  },
  {
   "cell_type": "code",
   "execution_count": null,
   "metadata": {},
   "outputs": [
    {
     "data": {
      "text/plain": [
       "'local@/Users/stan/Developer/acme-metaflow'"
      ]
     },
     "execution_count": 2,
     "metadata": {},
     "output_type": "execute_result"
    }
   ],
   "source": [
    "# Fetch currently configured metadata provider\n",
    "# The simplest metadata provider is based on local filesystem,\n",
    "# but DB providers are also available\n",
    "get_metadata()"
   ]
  },
  {
   "cell_type": "code",
   "execution_count": null,
   "metadata": {},
   "outputs": [
    {
     "data": {
      "text/plain": [
       "'user:stan'"
      ]
     },
     "execution_count": 14,
     "metadata": {},
     "output_type": "execute_result"
    }
   ],
   "source": [
    "# Metaflow data are stored in namespaces\n",
    "# because we executed the flow as an individual user the namespace is specific to the current user\n",
    "import getpass\n",
    "user = getpass.getuser()\n",
    "# namespace function allows us to change namespace from which results are fetched\n",
    "namespace(f\"user:{user}\")"
   ]
  },
  {
   "cell_type": "code",
   "execution_count": 15,
   "metadata": {},
   "outputs": [
    {
     "name": "stdout",
     "output_type": "stream",
     "text": [
      "HelloFlow       Last run: 2024-11-29 13:03:57.050000 Successful: True\n",
      "ForeachFlow     Last run: 2024-11-29 13:15:24.786000 Successful: True\n",
      "SimpleFlow      Last run: 2024-11-29 13:47:07.837000 Successful: True\n",
      "ParallelFlow    Last run: 2024-11-29 13:07:28.805000 Successful: True\n",
      "ParameterFlow   Last run: 2024-11-29 13:40:09.029000 Successful: True\n",
      "MergeArtifactsFlow Last run: 2024-11-29 13:28:50.468000 Successful: True\n",
      "MovieStatsFlow  Last run: None Successful: False\n",
      "UseArtifactsFlow Last run: 2024-11-29 13:36:14.523000 Successful: True\n",
      "PlayListFlow    Last run: 2024-11-26 21:16:54.212000 Successful: True\n"
     ]
    }
   ],
   "source": [
    "# Show latest runs of all flows in the current namespace\n",
    "for flow in Metaflow():\n",
    "    run = flow.latest_run\n",
    "    print(\"{:<15} Last run: {} Successful: {}\".\\\n",
    "          format(flow.id, run.finished_at, run.successful))"
   ]
  },
  {
   "cell_type": "code",
   "execution_count": 17,
   "metadata": {},
   "outputs": [],
   "source": [
    "# Set to global namespace to get flows across all namespaces available\n",
    "namespace(None)"
   ]
  },
  {
   "cell_type": "code",
   "execution_count": null,
   "metadata": {},
   "outputs": [
    {
     "name": "stdout",
     "output_type": "stream",
     "text": [
      "Run('SimpleFlow/1732889638902927')\n",
      "Run('SimpleFlow/1732889320577221')\n",
      "Run('SimpleFlow/1732889303476976')\n",
      "Run('SimpleFlow/1732889262077968')\n",
      "Run('SimpleFlow/1732888026765822')\n"
     ]
    }
   ],
   "source": [
    "flow = Flow('SimpleFlow')\n",
    "for run in flow:\n",
    "    print(run)"
   ]
  },
  {
   "cell_type": "code",
   "execution_count": null,
   "metadata": {},
   "outputs": [
    {
     "name": "stdout",
     "output_type": "stream",
     "text": [
      "2\n"
     ]
    }
   ],
   "source": [
    "# Get artifact from a step: Note step data is contained in a task object\n",
    "run = flow.latest_run\n",
    "step_hello_short = run['hello_short']\n",
    "a = step_hello_short.task.data.a\n",
    "print(a)"
   ]
  }
 ],
 "metadata": {
  "kernelspec": {
   "display_name": ".venv",
   "language": "python",
   "name": "python3"
  },
  "language_info": {
   "codemirror_mode": {
    "name": "ipython",
    "version": 3
   },
   "file_extension": ".py",
   "mimetype": "text/x-python",
   "name": "python",
   "nbconvert_exporter": "python",
   "pygments_lexer": "ipython3",
   "version": "3.9.13"
  }
 },
 "nbformat": 4,
 "nbformat_minor": 2
}
