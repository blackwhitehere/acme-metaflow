{
 "cells": [
  {
   "cell_type": "code",
   "execution_count": null,
   "metadata": {},
   "outputs": [],
   "source": [
    "from metaflow import Metaflow, Flow, get_metadata, namespace"
   ]
  },
  {
   "cell_type": "code",
   "execution_count": null,
   "metadata": {},
   "outputs": [],
   "source": [
    "# Fetch currently configured metadata provider\n",
    "# The simplest metadata provider is based on local filesystem,\n",
    "# but DB providers are also available\n",
    "get_metadata()"
   ]
  },
  {
   "cell_type": "code",
   "execution_count": null,
   "metadata": {},
   "outputs": [],
   "source": [
    "# TODO: show to set a remote metadata provider and access data from it"
   ]
  },
  {
   "cell_type": "code",
   "execution_count": null,
   "metadata": {},
   "outputs": [],
   "source": [
    "# Metaflow data are stored in namespaces\n",
    "# because we executed the flow as an individual user the namespace is specific to the current user\n",
    "import getpass\n",
    "user = getpass.getuser()\n",
    "# namespace function allows us to change namespace from which results are fetched\n",
    "namespace(f\"user:{user}\")"
   ]
  },
  {
   "cell_type": "code",
   "execution_count": null,
   "metadata": {},
   "outputs": [],
   "source": [
    "# Show latest runs of all flows in the current namespace\n",
    "for flow in Metaflow():\n",
    "    run = flow.latest_run\n",
    "    print(\"{:<15} Last run: {} Successful: {}\".\\\n",
    "          format(flow.id, run.finished_at, run.successful))"
   ]
  },
  {
   "cell_type": "code",
   "execution_count": null,
   "metadata": {},
   "outputs": [],
   "source": [
    "# Set to global namespace to get flows across all namespaces available\n",
    "namespace(None)"
   ]
  },
  {
   "cell_type": "code",
   "execution_count": null,
   "metadata": {},
   "outputs": [],
   "source": [
    "flow = Flow('SimpleFlow')\n",
    "for run in flow:\n",
    "    print(run)"
   ]
  },
  {
   "cell_type": "code",
   "execution_count": null,
   "metadata": {},
   "outputs": [],
   "source": [
    "# Get artifact from a step: Note step data is contained in a task object\n",
    "run = flow.latest_run\n",
    "step_hello_short = run['hello_short']\n",
    "a = step_hello_short.task.data.a\n",
    "print(a)"
   ]
  }
 ],
 "metadata": {
  "kernelspec": {
   "display_name": ".venv",
   "language": "python",
   "name": "python3"
  },
  "language_info": {
   "codemirror_mode": {
    "name": "ipython",
    "version": 3
   },
   "file_extension": ".py",
   "mimetype": "text/x-python",
   "name": "python",
   "nbconvert_exporter": "python",
   "pygments_lexer": "ipython3",
   "version": "3.9.13"
  }
 },
 "nbformat": 4,
 "nbformat_minor": 2
}
