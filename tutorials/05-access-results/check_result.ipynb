{
 "cells": [
  {
   "cell_type": "code",
   "execution_count": 1,
   "metadata": {},
   "outputs": [],
   "source": [
    "from metaflow import Metaflow, Flow, get_metadata, namespace"
   ]
  },
  {
   "cell_type": "code",
   "execution_count": null,
   "metadata": {},
   "outputs": [],
   "source": [
    "# Fetch currently configured metadata provider\n",
    "# The simplest metadata provider is based on local filesystem,\n",
    "# but API providers are also available\n",
    "# this is configured via METAFLOW_DEFAULT_METADATA and METAFLOW_SERVICE_URL env vars\n",
    "get_metadata()"
   ]
  },
  {
   "cell_type": "code",
   "execution_count": null,
   "metadata": {},
   "outputs": [],
   "source": [
    "# Metaflow data are stored in namespaces\n",
    "# because we executed the flow as an individual user the namespace is specific to the current user\n",
    "import getpass\n",
    "user = getpass.getuser()\n",
    "# namespace function allows us to change namespace from which results are fetched\n",
    "namespace(f\"user:{user}\")\n",
    "# Set to global namespace to get flows across all namespaces available\n",
    "# namespace(None)"
   ]
  },
  {
   "cell_type": "code",
   "execution_count": null,
   "metadata": {},
   "outputs": [],
   "source": [
    "# Show latest runs of all flows in the current namespace\n",
    "# Note: if you are using S3 based DataStore, don't forget to refresh your credentials using admin/refresh_credentials.sh script\n",
    "flows = list(iter(Metaflow()))\n",
    "for flow in flows:\n",
    "    run = flow.latest_run\n",
    "    print(\"{:<15} Last run: {} Successful: {}\".\\\n",
    "          format(flow.id, run.finished_at, run.successful))"
   ]
  },
  {
   "cell_type": "code",
   "execution_count": null,
   "metadata": {},
   "outputs": [],
   "source": [
    "for run in flows[0]:\n",
    "    print(run)"
   ]
  },
  {
   "cell_type": "code",
   "execution_count": null,
   "metadata": {},
   "outputs": [],
   "source": [
    "# Get artifact from a step: Note step data is contained in a task object\n",
    "if \"SimpleFlow\" in [flow.id for flow in flows]:\n",
    "    flow = Flow(\"SimpleFlow\")\n",
    "    run = flow.latest_run\n",
    "    step_hello_short = run['hello_short']\n",
    "    a = step_hello_short.task.data.a\n",
    "    print(f\"Value of `a` set in hello_short step is: {a}\")\n",
    "else:\n",
    "    print(\"Run SimpleFlow in tutorials/05-access-results to view artifact results\")"
   ]
  }
 ],
 "metadata": {
  "kernelspec": {
   "display_name": ".venv",
   "language": "python",
   "name": "python3"
  },
  "language_info": {
   "codemirror_mode": {
    "name": "ipython",
    "version": 3
   },
   "file_extension": ".py",
   "mimetype": "text/x-python",
   "name": "python",
   "nbconvert_exporter": "python",
   "pygments_lexer": "ipython3",
   "version": "3.12.7"
  }
 },
 "nbformat": 4,
 "nbformat_minor": 2
}
